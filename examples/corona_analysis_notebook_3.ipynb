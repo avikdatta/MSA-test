{
 "cells": [
  {
   "cell_type": "markdown",
   "metadata": {},
   "source": [
    "### Step 1: Fetch fastq read from SRA\n"
   ]
  },
  {
   "cell_type": "code",
   "execution_count": null,
   "metadata": {},
   "outputs": [],
   "source": [
    "# Option 1:\n",
    "## Download reads in SRA format\n",
    "\n",
    "!wget -q -O /tmp/SRR10971381 https://sra-download.ncbi.nlm.nih.gov/traces/sra46/SRR/010714/SRR10971381\n",
    "    \n",
    "## Convert SRA format data to fastq format\n",
    "\n",
    "!fastq-dump --split-files --gzip -outdir /tmp /tmp/SRR10971381"
   ]
  },
  {
   "cell_type": "code",
   "execution_count": null,
   "metadata": {},
   "outputs": [],
   "source": [
    "# Option 2:\n",
    "## Download raw fastq from SRA\n",
    "\n",
    "!wget -q -O /tmp/SRR10971381_1.fastq.gz https://sra-pub-src-1.s3.amazonaws.com/SRR10971381/WH_R1.fastq.gz.1\n",
    "!wget -q -O /tmp/SRR10971381_2.fastq.gz https://sra-pub-src-1.s3.amazonaws.com/SRR10971381/WH_R2.fastq.gz.1"
   ]
  },
  {
   "cell_type": "markdown",
   "metadata": {},
   "source": [
    "### Step 2: Fetch Coronavirus genome and unique kmers"
   ]
  },
  {
   "cell_type": "code",
   "execution_count": null,
   "metadata": {},
   "outputs": [],
   "source": [
    "## fetch coronavirus genomes\n",
    "\n",
    "!wget -q -O /tmp/SARS2_153_complete_genomes_20200329.fasta https://storage.googleapis.com/sars-cov-2/SARS2_153_complete_genomes_20200329.fasta"
   ]
  },
  {
   "cell_type": "code",
   "execution_count": null,
   "metadata": {},
   "outputs": [],
   "source": [
    "## fetch unique kmers\n",
    "\n",
    "!wget -q -O /tmp/SARS-CoV-2.kmer.fa http://opengene.org/fastv/data/SARS-CoV-2.kmer.fa"
   ]
  },
  {
   "cell_type": "markdown",
   "metadata": {},
   "source": [
    "### Step 3: Check for viral contamination using Fastv"
   ]
  },
  {
   "cell_type": "code",
   "execution_count": null,
   "metadata": {},
   "outputs": [],
   "source": [
    "!~/bin/fastv \\\n",
    "  -i /tmp/SRR10971381_1.fastq.gz \\\n",
    "  -I /tmp/SRR10971381_2.fastq.gz \\\n",
    "  -k /tmp/SARS-CoV-2.kmer.fa \\\n",
    "  -g /tmp/SARS2_153_complete_genomes_20200329.fasta \\\n",
    "  -h SRR10971381.fastv.html \\\n",
    "  -j SRR10971381.fastv.json \\\n",
    "  --thread 1"
   ]
  },
  {
   "cell_type": "code",
   "execution_count": null,
   "metadata": {},
   "outputs": [],
   "source": []
  }
 ],
 "metadata": {
  "kernelspec": {
   "display_name": "Python 3",
   "language": "python",
   "name": "python3"
  },
  "language_info": {
   "codemirror_mode": {
    "name": "ipython",
    "version": 3
   },
   "file_extension": ".py",
   "mimetype": "text/x-python",
   "name": "python",
   "nbconvert_exporter": "python",
   "pygments_lexer": "ipython3",
   "version": "3.6.9"
  }
 },
 "nbformat": 4,
 "nbformat_minor": 4
}
