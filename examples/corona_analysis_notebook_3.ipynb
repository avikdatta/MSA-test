{
 "cells": [
  {
   "cell_type": "markdown",
   "metadata": {},
   "source": [
    "## Notebook config"
   ]
  },
  {
   "cell_type": "code",
   "execution_count": 1,
   "metadata": {},
   "outputs": [],
   "source": [
    "CPU_THREADS = 1          ## Number of CPU to use\n",
    "MEM_LIMIT_GB = 2         ## Default value for running the notebook in binder\n",
    "KMERS = '27,31'          ## List og k-mers to use for assembly\n",
    "USE_RAW_FASTQ = True     ## Download raw fastq instead of SRA format, faster on binder\n",
    "SUBSAMPLE_READ = 1000000 ## subsample reads to 1M to run in binder, set it to zero to disable"
   ]
  },
  {
   "cell_type": "code",
   "execution_count": 2,
   "metadata": {},
   "outputs": [],
   "source": [
    "list_of_samples = \\\n",
    "  [{'sample_name':'SRR10971381',\n",
    "    'fastq_files' : [\n",
    "      '/tmp/SRR10971381_1.fastq.gz',\n",
    "      '/tmp/SRR10971381_2.fastq.gz']}\n",
    "  ]"
   ]
  },
  {
   "cell_type": "code",
   "execution_count": 5,
   "metadata": {},
   "outputs": [],
   "source": [
    "import os, requests"
   ]
  },
  {
   "cell_type": "markdown",
   "metadata": {},
   "source": [
    "### Step 1: Fetch fastq read from SRA"
   ]
  },
  {
   "cell_type": "code",
   "execution_count": 3,
   "metadata": {},
   "outputs": [
    {
     "name": "stdout",
     "output_type": "stream",
     "text": [
      "--2020-04-08 21:06:38--  https://sra-pub-src-1.s3.amazonaws.com/SRR10971381/WH_R1.fastq.gz.1\n",
      "Resolving sra-pub-src-1.s3.amazonaws.com (sra-pub-src-1.s3.amazonaws.com)... 52.216.107.236\n",
      "Connecting to sra-pub-src-1.s3.amazonaws.com (sra-pub-src-1.s3.amazonaws.com)|52.216.107.236|:443... connected.\n",
      "HTTP request sent, awaiting response... 200 OK\n",
      "Length: 2739477612 (2.6G) [application/x-troff-man]\n",
      "Saving to: '/tmp/SRR10971381_1.fastq.gz'\n",
      "\n",
      "/tmp/SRR10971381_1. 100%[===================>]   2.55G  32.3MB/s    in 89s     \n",
      "\n",
      "2020-04-08 21:08:07 (29.4 MB/s) - '/tmp/SRR10971381_1.fastq.gz' saved [2739477612/2739477612]\n",
      "\n",
      "--2020-04-08 21:08:09--  https://sra-pub-src-1.s3.amazonaws.com/SRR10971381/WH_R2.fastq.gz.1\n",
      "Resolving sra-pub-src-1.s3.amazonaws.com (sra-pub-src-1.s3.amazonaws.com)... 52.216.102.43\n",
      "Connecting to sra-pub-src-1.s3.amazonaws.com (sra-pub-src-1.s3.amazonaws.com)|52.216.102.43|:443... connected.\n",
      "HTTP request sent, awaiting response... 200 OK\n",
      "Length: 2838458153 (2.6G) [application/x-troff-man]\n",
      "Saving to: '/tmp/SRR10971381_2.fastq.gz'\n",
      "\n",
      "/tmp/SRR10971381_2. 100%[===================>]   2.64G  32.6MB/s    in 76s     \n",
      "\n",
      "2020-04-08 21:09:25 (35.8 MB/s) - '/tmp/SRR10971381_2.fastq.gz' saved [2838458153/2838458153]\n",
      "\n"
     ]
    }
   ],
   "source": [
    "if USE_RAW_FASTQ:\n",
    "  ## Download raw fastq from SRA\n",
    "  !wget -O /tmp/SRR10971381_1.fastq.gz https://sra-pub-src-1.s3.amazonaws.com/SRR10971381/WH_R1.fastq.gz.1\n",
    "  !wget -O /tmp/SRR10971381_2.fastq.gz https://sra-pub-src-1.s3.amazonaws.com/SRR10971381/WH_R2.fastq.gz.1\n",
    "else:\n",
    "  ## Download reads in SRA format\n",
    "  !wget -O /tmp/SRR10971381 https://sra-download.ncbi.nlm.nih.gov/traces/sra46/SRR/010714/SRR10971381\n",
    "  ## Convert SRA format data to fastq format\n",
    "  !fastq-dump --split-files --gzip -outdir /tmp /tmp/SRR10971381"
   ]
  },
  {
   "cell_type": "markdown",
   "metadata": {},
   "source": [
    "### Step 2: Fetch Coronavirus genome and unique kmers"
   ]
  },
  {
   "cell_type": "code",
   "execution_count": 4,
   "metadata": {},
   "outputs": [
    {
     "name": "stdout",
     "output_type": "stream",
     "text": [
      "--2020-04-08 21:14:05--  https://storage.googleapis.com/sars-cov-2/SARS2_153_complete_genomes_20200329.fasta\n",
      "Resolving storage.googleapis.com (storage.googleapis.com)... 108.177.120.128, 2607:f8b0:4001:c05::80\n",
      "Connecting to storage.googleapis.com (storage.googleapis.com)|108.177.120.128|:443... connected.\n",
      "HTTP request sent, awaiting response... 200 OK\n",
      "Length: 4662317 (4.4M) [application/octet-stream]\n",
      "Saving to: '/tmp/SARS2_153_complete_genomes_20200329.fasta'\n",
      "\n",
      "/tmp/SARS2_153_comp 100%[===================>]   4.45M  --.-KB/s    in 0.07s   \n",
      "\n",
      "2020-04-08 21:14:05 (60.9 MB/s) - '/tmp/SARS2_153_complete_genomes_20200329.fasta' saved [4662317/4662317]\n",
      "\n"
     ]
    }
   ],
   "source": [
    "## fetch coronavirus genomes\n",
    "\n",
    "!wget -O /tmp/SARS2_153_complete_genomes_20200329.fasta https://storage.googleapis.com/sars-cov-2/SARS2_153_complete_genomes_20200329.fasta"
   ]
  },
  {
   "cell_type": "code",
   "execution_count": 5,
   "metadata": {},
   "outputs": [
    {
     "name": "stdout",
     "output_type": "stream",
     "text": [
      "--2020-04-08 21:14:09--  http://opengene.org/fastv/data/SARS-CoV-2.kmer.fa\n",
      "Resolving opengene.org (opengene.org)... 47.90.42.109\n",
      "Connecting to opengene.org (opengene.org)|47.90.42.109|:80... connected.\n",
      "HTTP request sent, awaiting response... 200 OK\n",
      "Length: 7632 (7.5K) [application/octet-stream]\n",
      "Saving to: '/tmp/SARS-CoV-2.kmer.fa'\n",
      "\n",
      "/tmp/SARS-CoV-2.kme 100%[===================>]   7.45K  --.-KB/s    in 0s      \n",
      "\n",
      "2020-04-08 21:14:09 (1.07 GB/s) - '/tmp/SARS-CoV-2.kmer.fa' saved [7632/7632]\n",
      "\n"
     ]
    }
   ],
   "source": [
    "## fetch unique kmers\n",
    "\n",
    "!wget -O /tmp/SARS-CoV-2.kmer.fa http://opengene.org/fastv/data/SARS-CoV-2.kmer.fa"
   ]
  },
  {
   "cell_type": "markdown",
   "metadata": {},
   "source": [
    "## Sub-sample reads for binder run"
   ]
  },
  {
   "cell_type": "code",
   "execution_count": 3,
   "metadata": {},
   "outputs": [
    {
     "name": "stdout",
     "output_type": "stream",
     "text": [
      "subsampling reads for sample SRR10971381 R1\n",
      "subsampling reads for sample SRR10971381 R2\n"
     ]
    }
   ],
   "source": [
    "## this step may take some time to run\n",
    "for entry in list_of_samples:\n",
    "  if SUBSAMPLE_READ > 0:\n",
    "    sample_name = entry.get('sample_name')\n",
    "    fastq_files = entry.get('fastq_files')\n",
    "    R1_fastq = fastq_files[0]\n",
    "    R2_fastq = fastq_files[1]\n",
    "    R1_sub_fastq = '/tmp/{0}_sub_1.fastq'.format(sample_name)\n",
    "    R2_sub_fastq = '/tmp/{0}_sub_2.fastq'.format(sample_name)\n",
    "    ## running seqtk to subsample files \n",
    "    print('subsampling reads for sample {0} R1'.format(sample_name))\n",
    "    !seqtk sample -2 -s100 $R1_fastq $SUBSAMPLE_READ  > $R1_sub_fastq\n",
    "    print('subsampling reads for sample {0} R2'.format(sample_name))\n",
    "    !seqtk sample -2 -s100 $R2_fastq $SUBSAMPLE_READ > $R2_sub_fastq\n",
    "    entry.update({'subsample_fastq_files':[R1_sub_fastq,R2_sub_fastq]})"
   ]
  },
  {
   "cell_type": "markdown",
   "metadata": {},
   "source": [
    "### Step 3: Check for viral contamination using Fastv"
   ]
  },
  {
   "cell_type": "code",
   "execution_count": 9,
   "metadata": {},
   "outputs": [
    {
     "name": "stdout",
     "output_type": "stream",
     "text": [
      "running fastv for sample SRR10971381\n"
     ]
    }
   ],
   "source": [
    "for entry in list_of_samples:\n",
    "  sample_name = entry.get('sample_name')\n",
    "  if SUBSAMPLE_READ > 0:\n",
    "    fastq_files = entry.get('subsample_fastq_files')\n",
    "  else:\n",
    "    fastq_files = entry.get('fastq_files')\n",
    "\n",
    "  R1_fastq = fastq_files[0]\n",
    "  R2_fastq = fastq_files[1]\n",
    "    \n",
    "  ## run fastv\n",
    "  print('running fastv for sample {0}'.format(sample_name))\n",
    "  fastv_html_output = '{0}.fastv.html'.format(sample_name)\n",
    "  fastv_json_output = '{0}.fastv.json'.format(sample_name)\n",
    "  fastv_log_output = '{0}.fastv.log'.format(sample_name)\n",
    "  !~/bin/fastv \\\n",
    "    -i $R1_fastq \\\n",
    "    -I $R2_fastq \\\n",
    "    -k /tmp/SARS-CoV-2.kmer.fa \\\n",
    "    -g /tmp/SARS2_153_complete_genomes_20200329.fasta \\\n",
    "    -h $fastv_html_output \\\n",
    "    -j $fastv_json_output \\\n",
    "    --thread $CPU_THREADS 2> $fastv_log_output"
   ]
  },
  {
   "cell_type": "markdown",
   "metadata": {},
   "source": [
    "## Step 4: De-novo genome assembly"
   ]
  },
  {
   "cell_type": "code",
   "execution_count": 9,
   "metadata": {},
   "outputs": [
    {
     "name": "stdout",
     "output_type": "stream",
     "text": [
      "running de-novo assembly using megahit for sample SRR10971381\n",
      "2020-04-08 22:57:10 - MEGAHIT v1.2.9\n",
      "2020-04-08 22:57:10 - Using megahit_core with POPCNT and BMI2 support\n",
      "2020-04-08 22:57:10 - Convert reads to binary library\n",
      "2020-04-08 22:57:13 - b'INFO  sequence/io/sequence_lib.cpp  :   77 - Lib 0 (/tmp/SRR10971381_sub_1.fastq,/tmp/SRR10971381_sub_2.fastq): pe, 2000000 reads, 151 max length'\n",
      "2020-04-08 22:57:13 - b'INFO  utils/utils.h                 :  152 - Real: 2.5765\\tuser: 1.9858\\tsys: 0.4955\\tmaxrss: 162244'\n",
      "2020-04-08 22:57:13 - Start assembly. Number of CPU threads 1 \n",
      "2020-04-08 22:57:13 - k list: 27,31 \n",
      "2020-04-08 22:57:13 - Memory used: 2000000000\n",
      "2020-04-08 22:57:13 - Extract solid (k+1)-mers for k = 27 \n",
      "2020-04-08 22:58:58 - Build graph for k = 27 \n",
      "2020-04-08 23:00:22 - Assemble contigs from SdBG for k = 27\n",
      "2020-04-08 23:05:33 - Local assembly for k = 27\n",
      "2020-04-08 23:05:51 - Extract iterative edges from k = 27 to 31 \n",
      "2020-04-08 23:06:15 - Build graph for k = 31 \n",
      "2020-04-08 23:06:38 - Assemble contigs from SdBG for k = 31\n",
      "2020-04-08 23:09:21 - Merging to output final contigs \n",
      "2020-04-08 23:09:21 - 9056 contigs, total 2427140 bp, min 200 bp, max 8614 bp, avg 268 bp, N50 253 bp\n",
      "2020-04-08 23:09:21 - ALL DONE. Time elapsed: 730.754799 seconds \n",
      "converting assembly to fastg file for visualization\n"
     ]
    }
   ],
   "source": [
    "MEM_LIMIT_BYTES = MEM_LIMIT_GB * 1000000000\n",
    "\n",
    "for entry in list_of_samples:\n",
    "  sample_name = entry.get('sample_name')\n",
    "  if SUBSAMPLE_READ > 0:\n",
    "    fastq_files = entry.get('subsample_fastq_files')\n",
    "  else:\n",
    "    fastq_files = entry.get('fastq_files')\n",
    "\n",
    "  R1_fastq = fastq_files[0]\n",
    "  R2_fastq = fastq_files[1]\n",
    "\n",
    "  output_dir = 'megahit_assembly_{0}'.format(sample_name)\n",
    "  ## run megahit assembly\n",
    "  print('running de-novo assembly using megahit for sample {0}'.format(sample_name))\n",
    "  !megahit \\\n",
    "    -1 $R1_fastq \\\n",
    "    -2 $R2_fastq \\\n",
    "    -o $output_dir \\\n",
    "    --k-list $KMERS \\\n",
    "    --num-cpu-threads $CPU_THREADS \\\n",
    "    --memory $MEM_LIMIT_BYTES \\\n",
    "    --tmp-dir /tmp\n",
    "  ### Visualize assembly\n",
    "  entry.update({'assembly_output':output_dir})\n",
    "  print('converting assembly to fastg file for visualization')\n",
    "  max_kmer = KMERS.split(',')[-1]\n",
    "  fastg_input = \\\n",
    "    os.path.join(\n",
    "      output_dir,\n",
    "      'intermediate_contigs',\n",
    "      'k{0}.contigs.fa'.format(max_kmer))\n",
    "  fastg_output = '{0}_k{1}.fastg'.format(sample_name,max_kmer)\n",
    "  !megahit_toolkit contig2fastg $max_kmer $fastg_input > $fastg_output"
   ]
  },
  {
   "cell_type": "code",
   "execution_count": 10,
   "metadata": {},
   "outputs": [],
   "source": [
    "def fetch_genome_fasta_from_ncbi(refseq_id,output_path='.'):\n",
    "  '''\n",
    "  A function for fetching the genome fasta sequences from NCBI\n",
    "  \n",
    "  :param refseq_id: NCBI genome id\n",
    "  :param output_path: Path to dump genome files, default '.'\n",
    "  '''\n",
    "  try:\n",
    "    url = \\\n",
    "      'https://eutils.ncbi.nlm.nih.gov/entrez/eutils/efetch.fcgi?db=nucleotide&id={0}&rettype=fasta'.\\\n",
    "        format(refseq_id)\n",
    "    r = requests.get(url)\n",
    "    fasta_data = r.content.decode('utf-8')\n",
    "    output_file = \\\n",
    "      os.path.join(\n",
    "        os.path.abspath(output_path),\n",
    "        '{0}.fa'.format(refseq_id))\n",
    "    with open(output_file,'w') as fp:\n",
    "      fp.write(fasta_data)\n",
    "    print('Downloaded genome seq for {0}'.format(refseq_id))\n",
    "  except Exception as e:\n",
    "    print('Failed to download data for {0} from NCBI, error: {1}'.format(refseq_id,e))"
   ]
  },
  {
   "cell_type": "code",
   "execution_count": 11,
   "metadata": {},
   "outputs": [
    {
     "name": "stdout",
     "output_type": "stream",
     "text": [
      "Downloaded genome seq for NC_045512.2\n"
     ]
    }
   ],
   "source": [
    "fetch_genome_fasta_from_ncbi(refseq_id='NC_045512.2')"
   ]
  },
  {
   "cell_type": "markdown",
   "metadata": {},
   "source": [
    "## Align contigs using Mauve"
   ]
  },
  {
   "cell_type": "code",
   "execution_count": 13,
   "metadata": {},
   "outputs": [
    {
     "name": "stdout",
     "output_type": "stream",
     "text": [
      "Apr 08, 2020 11:14:53 PM java.util.prefs.FileSystemPreferences$1 run\n",
      "INFO: Created user preferences directory.\n"
     ]
    }
   ],
   "source": [
    "for entry in list_of_samples:\n",
    "  sample_name = entry.get('sample_name')\n",
    "  assembly_output = entry.get('assembly_output')\n",
    "  ## run mauve alignment\n",
    "  mauve_input = os.path.join(assembly_output,'final.contigs.fa')\n",
    "  mauve_output = 'mauve_contig_order_{0}'.format(sample_name)\n",
    "  mauve_log = '{0}_mauve.log'.format(sample_name)\n",
    "  !java -Xmx2000m -Djava.awt.headless=true -cp \\\n",
    "     ~/bin/mauve_snapshot_2015-02-13/Mauve.jar \\\n",
    "     org.gel.mauve.contigs.ContigOrderer \\\n",
    "     -output $mauve_output \\\n",
    "     -ref NC_045512.2.fa \\\n",
    "     -draft $mauve_input > $mauve_log"
   ]
  },
  {
   "cell_type": "code",
   "execution_count": 15,
   "metadata": {},
   "outputs": [
    {
     "name": "stdout",
     "output_type": "stream",
     "text": [
      "Contigs to reverse\n",
      "type\tlabel\tcontig\tstrand\tleft_end\tright_end\n",
      "contig\tk31_39596\tchromosome\tcomplement\t520307\t523223\n",
      "contig\tk31_61516\tchromosome\tcomplement\t808899\t809946\n",
      "contig\tk31_94094\tchromosome\tcomplement\t1170224\t1174677\n",
      "contig\tk31_116196\tchromosome\tcomplement\t1397534\t1406147\n",
      "contig\tk31_155347\tchromosome\tcomplement\t1789324\t1789589\n",
      "\n",
      "\n",
      "Ordered Contigs\n"
     ]
    }
   ],
   "source": [
    "!head mauve_contig_order_SRR10971381/alignment2/final.contigs.fa_contigs.tab"
   ]
  },
  {
   "cell_type": "code",
   "execution_count": null,
   "metadata": {},
   "outputs": [],
   "source": []
  }
 ],
 "metadata": {
  "kernelspec": {
   "display_name": "Python 3",
   "language": "python",
   "name": "python3"
  },
  "language_info": {
   "codemirror_mode": {
    "name": "ipython",
    "version": 3
   },
   "file_extension": ".py",
   "mimetype": "text/x-python",
   "name": "python",
   "nbconvert_exporter": "python",
   "pygments_lexer": "ipython3",
   "version": "3.6.9"
  }
 },
 "nbformat": 4,
 "nbformat_minor": 4
}
