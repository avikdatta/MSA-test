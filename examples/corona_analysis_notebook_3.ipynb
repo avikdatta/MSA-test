{
 "cells": [
  {
   "cell_type": "code",
   "execution_count": 1,
   "metadata": {},
   "outputs": [],
   "source": [
    "%%bash\n",
    "wget -q -O ~/bin/fastv http://opengene.org/fastv/fastv\n",
    "chmod a+x ~/bin/fastv"
   ]
  },
  {
   "cell_type": "code",
   "execution_count": 2,
   "metadata": {},
   "outputs": [
    {
     "name": "stdout",
     "output_type": "stream",
     "text": [
      "--2020-04-02 23:16:52--  https://sra-download.ncbi.nlm.nih.gov/traces/sra46/SRR/010714/SRR10971381\n",
      "Resolving sra-download.ncbi.nlm.nih.gov (sra-download.ncbi.nlm.nih.gov)... 130.14.250.25, 130.14.250.28, 130.14.250.26\n",
      "Connecting to sra-download.ncbi.nlm.nih.gov (sra-download.ncbi.nlm.nih.gov)|130.14.250.25|:443... connected.\n",
      "HTTP request sent, awaiting response... 200 OK\n",
      "Length: 2743429212 (2.6G) [application/octet-stream]\n",
      "Saving to: 'SRR10971381'\n",
      "\n",
      "SRR10971381         100%[===================>]   2.55G  29.9MB/s    in 2m 18s  \n",
      "\n",
      "2020-04-02 23:19:10 (19.0 MB/s) - 'SRR10971381' saved [2743429212/2743429212]\n",
      "\n"
     ]
    }
   ],
   "source": [
    "!wget https://sra-download.ncbi.nlm.nih.gov/traces/sra46/SRR/010714/SRR10971381"
   ]
  },
  {
   "cell_type": "code",
   "execution_count": 3,
   "metadata": {},
   "outputs": [
    {
     "name": "stdout",
     "output_type": "stream",
     "text": [
      "Read 28282964 spots for SRR10971381\n",
      "Written 28282964 spots for SRR10971381\n"
     ]
    }
   ],
   "source": [
    "!fastq-dump --split-files --gzip  SRR10971381"
   ]
  },
  {
   "cell_type": "code",
   "execution_count": 9,
   "metadata": {},
   "outputs": [],
   "source": [
    "!wget -q https://storage.googleapis.com/sars-cov-2/SARS2_153_complete_genomes_20200329.fasta"
   ]
  },
  {
   "cell_type": "code",
   "execution_count": 11,
   "metadata": {},
   "outputs": [],
   "source": [
    "!wget -q https://storage.googleapis.com/sars-cov-2/unique_kmers_sars2_v3.tar.gz"
   ]
  },
  {
   "cell_type": "code",
   "execution_count": 12,
   "metadata": {},
   "outputs": [
    {
     "name": "stdout",
     "output_type": "stream",
     "text": [
      "unique_sars2.k19.fasta\n",
      "unique_sars2.k19.kmers\n",
      "unique_sars2.k20.fasta\n",
      "unique_sars2.k20.kmers\n",
      "unique_sars2.k21.fasta\n",
      "unique_sars2.k21.kmers\n",
      "unique_sars2.k22.fasta\n",
      "unique_sars2.k22.kmers\n",
      "unique_sars2.k23.fasta\n",
      "unique_sars2.k23.kmers\n",
      "unique_sars2.k24.fasta\n",
      "unique_sars2.k24.kmers\n",
      "unique_sars2.k25.fasta\n",
      "unique_sars2.k25.kmers\n"
     ]
    }
   ],
   "source": [
    "!tar -xvz unique_kmers_sars2_v3.tar.gz"
   ]
  },
  {
   "cell_type": "code",
   "execution_count": 14,
   "metadata": {},
   "outputs": [],
   "source": [
    "rm -f unique_*"
   ]
  },
  {
   "cell_type": "code",
   "execution_count": 15,
   "metadata": {},
   "outputs": [],
   "source": [
    "!wget -q http://opengene.org/fastv/data/SARS-CoV-2.kmer.fa"
   ]
  },
  {
   "cell_type": "code",
   "execution_count": null,
   "metadata": {},
   "outputs": [],
   "source": [
    "!~/bin/fastv -i SRR10971381_1.fastq.gz -I SRR10971381_2.fastq.gz -k SARS-CoV-2.kmer.fa -g SARS2_153_complete_genomes_20200329.fasta"
   ]
  },
  {
   "cell_type": "code",
   "execution_count": null,
   "metadata": {},
   "outputs": [],
   "source": []
  }
 ],
 "metadata": {
  "kernelspec": {
   "display_name": "Python 3",
   "language": "python",
   "name": "python3"
  },
  "language_info": {
   "codemirror_mode": {
    "name": "ipython",
    "version": 3
   },
   "file_extension": ".py",
   "mimetype": "text/x-python",
   "name": "python",
   "nbconvert_exporter": "python",
   "pygments_lexer": "ipython3",
   "version": "3.6.9"
  }
 },
 "nbformat": 4,
 "nbformat_minor": 4
}
